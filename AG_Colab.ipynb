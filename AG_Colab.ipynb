{
  "nbformat": 4,
  "nbformat_minor": 0,
  "metadata": {
    "colab": {
      "provenance": [],
      "authorship_tag": "ABX9TyP+nVrUTHQJ1YmFDtQrO80B"
    },
    "kernelspec": {
      "name": "python3",
      "display_name": "Python 3"
    },
    "language_info": {
      "name": "python"
    }
  },
  "cells": [
    {
      "cell_type": "markdown",
      "source": [
        "**SETTINGS**"
      ],
      "metadata": {
        "id": "pe2tjTHnKoxd"
      }
    },
    {
      "cell_type": "code",
      "source": [
        "import google.generativeai as genai\n",
        "from google.colab import userdata\n",
        "\n",
        "GOOGLE_API_KEY = userdata.get('GOOGLE_API_KEY')\n",
        "Project_AG_1 = userdata.get('Project_AG_1')\n",
        "Project_AG_2 = userdata.get('Project_AG_2')\n",
        "Project_AG_3 = userdata.get('Project_AG_3')\n",
        "AG_Weather = userdata.get('AG_Weather')\n",
        "\n",
        "genai.configure(api_key=GOOGLE_API_KEY)\n",
        "\n",
        "system_instruction = f\"{Project_AG_1}\\n{Project_AG_2}\\n{Project_AG_3}\\n\"\n",
        "model=genai.GenerativeModel(model_name=\"gemini-2.0-flash-lite-preview-02-05\", system_instruction= system_instruction)"
      ],
      "metadata": {
        "id": "HBo4X30HKn-e"
      },
      "execution_count": null,
      "outputs": []
    },
    {
      "cell_type": "markdown",
      "source": [
        "**USER**"
      ],
      "metadata": {
        "id": "xO5z_PpnT56h"
      }
    },
    {
      "cell_type": "code",
      "source": [
        "user=input()\n",
        "response = model.generate_content(user)\n",
        "print(response.text)"
      ],
      "metadata": {
        "id": "NwBjWrQ3T5Uz"
      },
      "execution_count": null,
      "outputs": []
    },
    {
      "cell_type": "markdown",
      "source": [
        "**AGENT**"
      ],
      "metadata": {
        "id": "QpS9IqsSUZ8h"
      }
    },
    {
      "cell_type": "code",
      "source": [
        "agent=(\"AG_\"+response.text)\n",
        "print(agent)\n",
        "w_model = genai.GenerativeModel(system_instruction=agent)\n",
        "response_2 = w_model.generate_content(user)\n",
        "print(response_2.text)"
      ],
      "metadata": {
        "id": "1arL3rd0aKh3"
      },
      "execution_count": null,
      "outputs": []
    },
    {
      "cell_type": "markdown",
      "source": [
        "**I-UA System**"
      ],
      "metadata": {
        "id": "s66P5uuZipP1"
      }
    },
    {
      "cell_type": "code",
      "source": [
        "user=input()\n",
        "response = model.generate_content(user)\n",
        "\n",
        "agent=(\"AG_\"+response.text)\n",
        "print(agent)\n",
        "\n",
        "w_model = genai.GenerativeModel(system_instruction=agent)\n",
        "response_2 = w_model.generate_content(user)\n",
        "print(response_2.text)"
      ],
      "metadata": {
        "id": "HmTYBwU3i5tc"
      },
      "execution_count": null,
      "outputs": []
    }
  ]
}